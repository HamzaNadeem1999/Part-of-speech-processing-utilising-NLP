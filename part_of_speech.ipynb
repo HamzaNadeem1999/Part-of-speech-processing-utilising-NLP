{
  "nbformat": 4,
  "nbformat_minor": 0,
  "metadata": {
    "colab": {
      "provenance": [],
      "authorship_tag": "ABX9TyN5B/F34HNAJXQsFVoN/7A1",
      "include_colab_link": true
    },
    "kernelspec": {
      "name": "python3",
      "display_name": "Python 3"
    },
    "language_info": {
      "name": "python"
    }
  },
  "cells": [
    {
      "cell_type": "markdown",
      "metadata": {
        "id": "view-in-github",
        "colab_type": "text"
      },
      "source": [
        "<a href=\"https://colab.research.google.com/github/HamzaNadeem1999/Part-of-speech-processing-utilising-NLP/blob/main/part_of_speech.ipynb\" target=\"_parent\"><img src=\"https://colab.research.google.com/assets/colab-badge.svg\" alt=\"Open In Colab\"/></a>"
      ]
    },
    {
      "cell_type": "code",
      "execution_count": 2,
      "metadata": {
        "id": "HecnaZp4ehp0"
      },
      "outputs": [],
      "source": [
        "import numpy as np\n",
        "import pandas as pd\n",
        "import math"
      ]
    },
    {
      "cell_type": "code",
      "source": [
        "tags=[\"RB\",\"NN\",\"TO\"]"
      ],
      "metadata": {
        "id": "ZzHgdqZ-elkv"
      },
      "execution_count": 3,
      "outputs": []
    },
    {
      "cell_type": "code",
      "source": [
        "transition_counts = {\n",
        "    ('NN', 'NN'): 16241,\n",
        "    ('RB', 'RB'): 2263,\n",
        "    ('TO', 'TO'): 2,\n",
        "    ('NN', 'TO'): 5256,\n",
        "    ('RB', 'TO'): 855,\n",
        "    ('TO', 'NN'): 734,\n",
        "    ('NN', 'RB'): 2431,\n",
        "    ('RB', 'NN'): 358,\n",
        "    ('TO', 'RB'): 200\n",
        "}"
      ],
      "metadata": {
        "id": "DD6vq3cZeqzF"
      },
      "execution_count": 4,
      "outputs": []
    },
    {
      "cell_type": "code",
      "source": [
        "num_tags=len(tags)\n",
        "num_tags"
      ],
      "metadata": {
        "colab": {
          "base_uri": "https://localhost:8080/"
        },
        "id": "G4DtzbesfEX7",
        "outputId": "30e88d5b-9722-4704-dc6a-5334cdc057e8"
      },
      "execution_count": 5,
      "outputs": [
        {
          "output_type": "execute_result",
          "data": {
            "text/plain": [
              "3"
            ]
          },
          "metadata": {},
          "execution_count": 5
        }
      ]
    },
    {
      "cell_type": "code",
      "source": [
        "transition_matrix=np.zeros((num_tags,num_tags))\n",
        "transition_matrix.shape"
      ],
      "metadata": {
        "colab": {
          "base_uri": "https://localhost:8080/"
        },
        "id": "-w6FAXjSfPfO",
        "outputId": "d33f0856-c8f4-44b9-9a2b-632f4b9075c5"
      },
      "execution_count": 6,
      "outputs": [
        {
          "output_type": "execute_result",
          "data": {
            "text/plain": [
              "(3, 3)"
            ]
          },
          "metadata": {},
          "execution_count": 6
        }
      ]
    },
    {
      "cell_type": "code",
      "source": [
        "sorted_tags=sorted(tags)\n",
        "sorted_tags"
      ],
      "metadata": {
        "colab": {
          "base_uri": "https://localhost:8080/"
        },
        "id": "SNUS8Rm4f0Gh",
        "outputId": "fc13683b-35e0-4653-c553-8f9433d338af"
      },
      "execution_count": 7,
      "outputs": [
        {
          "output_type": "execute_result",
          "data": {
            "text/plain": [
              "['NN', 'RB', 'TO']"
            ]
          },
          "metadata": {},
          "execution_count": 7
        }
      ]
    },
    {
      "cell_type": "code",
      "source": [
        "for i in range(num_tags):\n",
        "  for j in range(num_tags):\n",
        "    tag_tuple=(sorted_tags[i],sorted_tags[j])\n",
        "    transition_matrix[i,j]=transition_counts.get(tag_tuple)"
      ],
      "metadata": {
        "id": "9xaaJGJpg1-b"
      },
      "execution_count": 8,
      "outputs": []
    },
    {
      "cell_type": "code",
      "source": [
        "transition_counts"
      ],
      "metadata": {
        "colab": {
          "base_uri": "https://localhost:8080/"
        },
        "id": "goaREl4rhe7y",
        "outputId": "08da5947-243c-46e7-a50b-12402d18dbfc"
      },
      "execution_count": 9,
      "outputs": [
        {
          "output_type": "execute_result",
          "data": {
            "text/plain": [
              "{('NN', 'NN'): 16241,\n",
              " ('RB', 'RB'): 2263,\n",
              " ('TO', 'TO'): 2,\n",
              " ('NN', 'TO'): 5256,\n",
              " ('RB', 'TO'): 855,\n",
              " ('TO', 'NN'): 734,\n",
              " ('NN', 'RB'): 2431,\n",
              " ('RB', 'NN'): 358,\n",
              " ('TO', 'RB'): 200}"
            ]
          },
          "metadata": {},
          "execution_count": 9
        }
      ]
    },
    {
      "cell_type": "code",
      "source": [
        "def print_matrix(matrix):\n",
        "  print(pd.DataFrame(matrix,index=sorted_tags,columns=sorted_tags))"
      ],
      "metadata": {
        "id": "zFC3Xczog4kK"
      },
      "execution_count": 17,
      "outputs": []
    },
    {
      "cell_type": "code",
      "source": [
        "print_matrix(transition_matrix)"
      ],
      "metadata": {
        "colab": {
          "base_uri": "https://localhost:8080/"
        },
        "id": "ro6vlcgQh9hu",
        "outputId": "822e88e5-7058-4f4b-9854-cb5451ae5599"
      },
      "execution_count": 18,
      "outputs": [
        {
          "output_type": "stream",
          "name": "stdout",
          "text": [
            "         NN      RB      TO\n",
            "NN  16241.0  2431.0  5256.0\n",
            "RB    358.0  2263.0   855.0\n",
            "TO    734.0   200.0     2.0\n"
          ]
        }
      ]
    },
    {
      "cell_type": "code",
      "source": [
        "transition_matrix=transition_matrix/10\n"
      ],
      "metadata": {
        "id": "psDSQXuiiRiX"
      },
      "execution_count": 20,
      "outputs": []
    },
    {
      "cell_type": "code",
      "source": [
        "print_matrix(transition_matrix)"
      ],
      "metadata": {
        "colab": {
          "base_uri": "https://localhost:8080/"
        },
        "id": "XBsnVDqHig4-",
        "outputId": "891d0dd1-bf09-467e-afe2-5c2745a0296c"
      },
      "execution_count": 21,
      "outputs": [
        {
          "output_type": "stream",
          "name": "stdout",
          "text": [
            "        NN     RB     TO\n",
            "NN  1624.1  243.1  525.6\n",
            "RB    35.8  226.3   85.5\n",
            "TO    73.4   20.0    0.2\n"
          ]
        }
      ]
    },
    {
      "cell_type": "code",
      "source": [
        "rows_sum=transition_matrix.sum(axis=1,keepdims=True)"
      ],
      "metadata": {
        "id": "7hRmqkMxim8D"
      },
      "execution_count": 22,
      "outputs": []
    },
    {
      "cell_type": "code",
      "source": [
        "transition_matrix=transition_matrix/rows_sum\n",
        "print_matrix(transition_matrix)"
      ],
      "metadata": {
        "colab": {
          "base_uri": "https://localhost:8080/"
        },
        "id": "trkutJoXi_lS",
        "outputId": "8a9c8318-e410-4689-93cc-9d19048948da"
      },
      "execution_count": 24,
      "outputs": [
        {
          "output_type": "stream",
          "name": "stdout",
          "text": [
            "          NN        RB        TO\n",
            "NN  0.000284  0.000042  0.000092\n",
            "RB  0.000296  0.001873  0.000708\n",
            "TO  0.008378  0.002283  0.000023\n"
          ]
        }
      ]
    },
    {
      "cell_type": "code",
      "source": [
        "t_matrix=np.copy(transition_matrix)\n",
        "t_matrix_np=np.copy(transition_matrix)"
      ],
      "metadata": {
        "id": "Yt2RwJVZjQf4"
      },
      "execution_count": 26,
      "outputs": []
    },
    {
      "cell_type": "code",
      "source": [
        "for i in range(num_tags):\n",
        "  t_matrix[i,j]=t_matrix[i,j]+math.log(rows_sum[i])\n"
      ],
      "metadata": {
        "colab": {
          "base_uri": "https://localhost:8080/"
        },
        "id": "ga2tG1hLjwB_",
        "outputId": "46e15b2f-1a77-469b-c090-aadc8a124ebf"
      },
      "execution_count": 27,
      "outputs": [
        {
          "output_type": "stream",
          "name": "stderr",
          "text": [
            "<ipython-input-27-da5804e47fbf>:2: DeprecationWarning: Conversion of an array with ndim > 0 to a scalar is deprecated, and will error in future. Ensure you extract a single element from your array before performing this operation. (Deprecated NumPy 1.25.)\n",
            "  t_matrix[i,j]=t_matrix[i,j]+math.log(rows_sum[i])\n"
          ]
        }
      ]
    },
    {
      "cell_type": "code",
      "source": [
        "print_matrix(t_matrix)"
      ],
      "metadata": {
        "colab": {
          "base_uri": "https://localhost:8080/"
        },
        "id": "ujIF7HK9kDwa",
        "outputId": "148cc90a-bbe3-4c64-ee59-bba07dece9b6"
      },
      "execution_count": 28,
      "outputs": [
        {
          "output_type": "stream",
          "name": "stdout",
          "text": [
            "          NN        RB        TO\n",
            "NN  0.000284  0.000042  7.780311\n",
            "RB  0.000296  0.001873  5.851760\n",
            "TO  0.008378  0.002283  4.539053\n"
          ]
        }
      ]
    },
    {
      "cell_type": "code",
      "source": [
        "d=np.diag(t_matrix_np)\n",
        "d.shape"
      ],
      "metadata": {
        "colab": {
          "base_uri": "https://localhost:8080/"
        },
        "id": "3acgA01ukpjV",
        "outputId": "c2812a03-2ee1-43fd-d200-2cb5aef033e4"
      },
      "execution_count": 29,
      "outputs": [
        {
          "output_type": "execute_result",
          "data": {
            "text/plain": [
              "(3,)"
            ]
          },
          "metadata": {},
          "execution_count": 29
        }
      ]
    },
    {
      "cell_type": "code",
      "source": [
        "d=np.reshape(d,(3,1))\n",
        "d.shape"
      ],
      "metadata": {
        "colab": {
          "base_uri": "https://localhost:8080/"
        },
        "id": "7ptfWDBdk1r1",
        "outputId": "1699c921-700b-4622-9ee3-f66eb1982c00"
      },
      "execution_count": 30,
      "outputs": [
        {
          "output_type": "execute_result",
          "data": {
            "text/plain": [
              "(3, 1)"
            ]
          },
          "metadata": {},
          "execution_count": 30
        }
      ]
    },
    {
      "cell_type": "code",
      "source": [
        "d=d+np.vectorize(math.log)(rows_sum)"
      ],
      "metadata": {
        "id": "ZP-1TUmfk-ol"
      },
      "execution_count": 33,
      "outputs": []
    },
    {
      "cell_type": "code",
      "source": [
        "np.fill_diagonal(t_matrix_np,d)"
      ],
      "metadata": {
        "id": "GwfmdwfplMvY"
      },
      "execution_count": 34,
      "outputs": []
    },
    {
      "cell_type": "code",
      "source": [
        "print_matrix(d)"
      ],
      "metadata": {
        "colab": {
          "base_uri": "https://localhost:8080/",
          "height": 282
        },
        "id": "tdGUZjrmlbNt",
        "outputId": "0d4a2e6d-4b9e-4957-9694-c0faa5426331"
      },
      "execution_count": 37,
      "outputs": [
        {
          "output_type": "error",
          "ename": "ValueError",
          "evalue": "Shape of passed values is (3, 1), indices imply (3, 3)",
          "traceback": [
            "\u001b[0;31m---------------------------------------------------------------------------\u001b[0m",
            "\u001b[0;31mValueError\u001b[0m                                Traceback (most recent call last)",
            "\u001b[0;32m<ipython-input-37-f7b94b27c262>\u001b[0m in \u001b[0;36m<cell line: 1>\u001b[0;34m()\u001b[0m\n\u001b[0;32m----> 1\u001b[0;31m \u001b[0mprint_matrix\u001b[0m\u001b[0;34m(\u001b[0m\u001b[0md\u001b[0m\u001b[0;34m)\u001b[0m\u001b[0;34m\u001b[0m\u001b[0;34m\u001b[0m\u001b[0m\n\u001b[0m",
            "\u001b[0;32m<ipython-input-17-7c8518400d31>\u001b[0m in \u001b[0;36mprint_matrix\u001b[0;34m(matrix)\u001b[0m\n\u001b[1;32m      1\u001b[0m \u001b[0;32mdef\u001b[0m \u001b[0mprint_matrix\u001b[0m\u001b[0;34m(\u001b[0m\u001b[0mmatrix\u001b[0m\u001b[0;34m)\u001b[0m\u001b[0;34m:\u001b[0m\u001b[0;34m\u001b[0m\u001b[0;34m\u001b[0m\u001b[0m\n\u001b[0;32m----> 2\u001b[0;31m   \u001b[0mprint\u001b[0m\u001b[0;34m(\u001b[0m\u001b[0mpd\u001b[0m\u001b[0;34m.\u001b[0m\u001b[0mDataFrame\u001b[0m\u001b[0;34m(\u001b[0m\u001b[0mmatrix\u001b[0m\u001b[0;34m,\u001b[0m\u001b[0mindex\u001b[0m\u001b[0;34m=\u001b[0m\u001b[0msorted_tags\u001b[0m\u001b[0;34m,\u001b[0m\u001b[0mcolumns\u001b[0m\u001b[0;34m=\u001b[0m\u001b[0msorted_tags\u001b[0m\u001b[0;34m)\u001b[0m\u001b[0;34m)\u001b[0m\u001b[0;34m\u001b[0m\u001b[0;34m\u001b[0m\u001b[0m\n\u001b[0m",
            "\u001b[0;32m/usr/local/lib/python3.10/dist-packages/pandas/core/frame.py\u001b[0m in \u001b[0;36m__init__\u001b[0;34m(self, data, index, columns, dtype, copy)\u001b[0m\n\u001b[1;32m    720\u001b[0m                 )\n\u001b[1;32m    721\u001b[0m             \u001b[0;32melse\u001b[0m\u001b[0;34m:\u001b[0m\u001b[0;34m\u001b[0m\u001b[0;34m\u001b[0m\u001b[0m\n\u001b[0;32m--> 722\u001b[0;31m                 mgr = ndarray_to_mgr(\n\u001b[0m\u001b[1;32m    723\u001b[0m                     \u001b[0mdata\u001b[0m\u001b[0;34m,\u001b[0m\u001b[0;34m\u001b[0m\u001b[0;34m\u001b[0m\u001b[0m\n\u001b[1;32m    724\u001b[0m                     \u001b[0mindex\u001b[0m\u001b[0;34m,\u001b[0m\u001b[0;34m\u001b[0m\u001b[0;34m\u001b[0m\u001b[0m\n",
            "\u001b[0;32m/usr/local/lib/python3.10/dist-packages/pandas/core/internals/construction.py\u001b[0m in \u001b[0;36mndarray_to_mgr\u001b[0;34m(values, index, columns, dtype, copy, typ)\u001b[0m\n\u001b[1;32m    347\u001b[0m     )\n\u001b[1;32m    348\u001b[0m \u001b[0;34m\u001b[0m\u001b[0m\n\u001b[0;32m--> 349\u001b[0;31m     \u001b[0m_check_values_indices_shape_match\u001b[0m\u001b[0;34m(\u001b[0m\u001b[0mvalues\u001b[0m\u001b[0;34m,\u001b[0m \u001b[0mindex\u001b[0m\u001b[0;34m,\u001b[0m \u001b[0mcolumns\u001b[0m\u001b[0;34m)\u001b[0m\u001b[0;34m\u001b[0m\u001b[0;34m\u001b[0m\u001b[0m\n\u001b[0m\u001b[1;32m    350\u001b[0m \u001b[0;34m\u001b[0m\u001b[0m\n\u001b[1;32m    351\u001b[0m     \u001b[0;32mif\u001b[0m \u001b[0mtyp\u001b[0m \u001b[0;34m==\u001b[0m \u001b[0;34m\"array\"\u001b[0m\u001b[0;34m:\u001b[0m\u001b[0;34m\u001b[0m\u001b[0;34m\u001b[0m\u001b[0m\n",
            "\u001b[0;32m/usr/local/lib/python3.10/dist-packages/pandas/core/internals/construction.py\u001b[0m in \u001b[0;36m_check_values_indices_shape_match\u001b[0;34m(values, index, columns)\u001b[0m\n\u001b[1;32m    418\u001b[0m         \u001b[0mpassed\u001b[0m \u001b[0;34m=\u001b[0m \u001b[0mvalues\u001b[0m\u001b[0;34m.\u001b[0m\u001b[0mshape\u001b[0m\u001b[0;34m\u001b[0m\u001b[0;34m\u001b[0m\u001b[0m\n\u001b[1;32m    419\u001b[0m         \u001b[0mimplied\u001b[0m \u001b[0;34m=\u001b[0m \u001b[0;34m(\u001b[0m\u001b[0mlen\u001b[0m\u001b[0;34m(\u001b[0m\u001b[0mindex\u001b[0m\u001b[0;34m)\u001b[0m\u001b[0;34m,\u001b[0m \u001b[0mlen\u001b[0m\u001b[0;34m(\u001b[0m\u001b[0mcolumns\u001b[0m\u001b[0;34m)\u001b[0m\u001b[0;34m)\u001b[0m\u001b[0;34m\u001b[0m\u001b[0;34m\u001b[0m\u001b[0m\n\u001b[0;32m--> 420\u001b[0;31m         \u001b[0;32mraise\u001b[0m \u001b[0mValueError\u001b[0m\u001b[0;34m(\u001b[0m\u001b[0;34mf\"Shape of passed values is {passed}, indices imply {implied}\"\u001b[0m\u001b[0;34m)\u001b[0m\u001b[0;34m\u001b[0m\u001b[0;34m\u001b[0m\u001b[0m\n\u001b[0m\u001b[1;32m    421\u001b[0m \u001b[0;34m\u001b[0m\u001b[0m\n\u001b[1;32m    422\u001b[0m \u001b[0;34m\u001b[0m\u001b[0m\n",
            "\u001b[0;31mValueError\u001b[0m: Shape of passed values is (3, 1), indices imply (3, 3)"
          ]
        }
      ]
    }
  ]
}